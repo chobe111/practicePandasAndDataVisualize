{
 "cells": [
  {
   "cell_type": "code",
   "execution_count": 34,
   "metadata": {},
   "outputs": [
    {
     "name": "stderr",
     "output_type": "stream",
     "text": [
      "/Users/myungkicho/PycharmProjects/DeepLearning/venv/lib/python3.7/site-packages/ipykernel_launcher.py:2: FutureWarning: Passing a negative integer is deprecated in version 1.0 and will not be supported in future version. Instead, use None to not limit the column width.\n",
      "  \n"
     ]
    }
   ],
   "source": [
    "import pandas as pd\n",
    "pd.set_option('display.max_colwidth', -1)\n",
    "jeopardy = pd.read_csv('jeopardy.csv')\n"
   ]
  },
  {
   "cell_type": "markdown",
   "metadata": {},
   "source": [
    "## Question3"
   ]
  },
  {
   "cell_type": "code",
   "execution_count": 35,
   "metadata": {},
   "outputs": [
    {
     "data": {
      "text/plain": [
       "152"
      ]
     },
     "execution_count": 35,
     "metadata": {},
     "output_type": "execute_result"
    }
   ],
   "source": [
    "def get_isin_arr(words, x):\n",
    "    return [word.lower() in x.lower() for word in words]\n",
    "    \n",
    "def is_include(arr):\n",
    "    return jeopardy[jeopardy[' Question'].apply(lambda x: all(get_isin_arr(arr,x)))]\n",
    "\n",
    "new_jeopardy = is_include([\"King\", \"England\"])\n",
    "\n",
    "len(new_jeopardy)"
   ]
  },
  {
   "cell_type": "markdown",
   "metadata": {},
   "source": [
    "## Question4"
   ]
  },
  {
   "cell_type": "code",
   "execution_count": 38,
   "metadata": {},
   "outputs": [
    {
     "name": "stdout",
     "output_type": "stream",
     "text": [
      "44\n"
     ]
    }
   ],
   "source": [
    "def is_word_in(word, x):\n",
    "    if word + \" \" in x or \" \" + word in x or \" \" + word + \" \" in x:\n",
    "        return True\n",
    "    return False\n",
    "\n",
    "def get_isin_arr(words, x):\n",
    "    return [is_word_in(word, x) for word in words]\n",
    "\n",
    "new_jeopardy = is_include([\"King\", \"England\"])\n",
    "\n",
    "print(len(new_jeopardy))"
   ]
  },
  {
   "cell_type": "markdown",
   "metadata": {},
   "source": [
    "## Question5"
   ]
  },
  {
   "cell_type": "code",
   "execution_count": 78,
   "metadata": {},
   "outputs": [
    {
     "name": "stdout",
     "output_type": "stream",
     "text": [
      "773.6299161831076\n"
     ]
    }
   ],
   "source": [
    "jeopardy[\"Float Value\"] = jeopardy[\" Value\"].apply(lambda x: float(x[1:].replace(',','')) if x != \"None\" else 0)\n",
    "\n",
    "filtered = is_include([\"King\"])\n",
    "\n",
    "print(filtered[\"Float Value\"].mean())"
   ]
  },
  {
   "cell_type": "markdown",
   "metadata": {},
   "source": [
    "## Question6"
   ]
  },
  {
   "cell_type": "code",
   "execution_count": 79,
   "metadata": {},
   "outputs": [
    {
     "name": "stdout",
     "output_type": "stream",
     "text": [
      "Sweden                   18\n",
      "Scotland                 11\n",
      "Norway                   10\n",
      "Denmark                  10\n",
      "Benny Goodman            10\n",
      "                         ..\n",
      "Diana Krall              1 \n",
      "zlati                    1 \n",
      "a grill (or barbecue)    1 \n",
      "Hammurabi                1 \n",
      "void                     1 \n",
      "Name:  Answer, Length: 1080, dtype: int64\n"
     ]
    }
   ],
   "source": [
    "# find unique value num in Answer\n",
    "print(filtered[\" Answer\"].value_counts())"
   ]
  },
  {
   "cell_type": "code",
   "execution_count": null,
   "metadata": {},
   "outputs": [],
   "source": []
  }
 ],
 "metadata": {
  "kernelspec": {
   "display_name": "Python 3",
   "language": "python",
   "name": "python3"
  },
  "language_info": {
   "codemirror_mode": {
    "name": "ipython",
    "version": 3
   },
   "file_extension": ".py",
   "mimetype": "text/x-python",
   "name": "python",
   "nbconvert_exporter": "python",
   "pygments_lexer": "ipython3",
   "version": "3.7.7"
  }
 },
 "nbformat": 4,
 "nbformat_minor": 4
}
